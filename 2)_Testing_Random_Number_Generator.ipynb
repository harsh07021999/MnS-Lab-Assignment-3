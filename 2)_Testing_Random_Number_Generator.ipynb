{
  "nbformat": 4,
  "nbformat_minor": 0,
  "metadata": {
    "colab": {
      "name": "2) Testing Random Number Generator.ipynb",
      "provenance": [],
      "collapsed_sections": [],
      "authorship_tag": "ABX9TyPBRlkNPIzmPd8f2Iw6Mv7x",
      "include_colab_link": true
    },
    "kernelspec": {
      "name": "python3",
      "display_name": "Python 3"
    }
  },
  "cells": [
    {
      "cell_type": "markdown",
      "metadata": {
        "id": "view-in-github",
        "colab_type": "text"
      },
      "source": [
        "<a href=\"https://colab.research.google.com/github/ner-aim/MnS-Lab-Assignment-3/blob/main/2)_Testing_Random_Number_Generator.ipynb\" target=\"_parent\"><img src=\"https://colab.research.google.com/assets/colab-badge.svg\" alt=\"Open In Colab\"/></a>"
      ]
    },
    {
      "cell_type": "code",
      "metadata": {
        "id": "s1t7jQcXOrGQ"
      },
      "source": [
        "import random \r\n",
        "import math \r\n",
        "import statistics "
      ],
      "execution_count": 1,
      "outputs": []
    },
    {
      "cell_type": "code",
      "metadata": {
        "id": "Vnt805odO0XA"
      },
      "source": [
        "def runsTest(l, median): \r\n",
        "\r\n",
        "\truns, n1, n2 = 0, 0, 0\r\n",
        "\t\r\n",
        "\tfor i in range(len(l)): \r\n",
        "\t\t\r\n",
        "\t\tif (l[i] >= median and l[i-1] < median) or (l[i] < median and l[i-1] >= median): \r\n",
        "\t\t\truns += 1\r\n",
        "\t\t\r\n",
        "\t\tif(l[i]) >= median: \r\n",
        "\t\t\tn1 += 1\r\n",
        "\t\t\r\n",
        "\t\telse: \r\n",
        "\t\t\tn2 += 1\r\n",
        "\r\n",
        "\truns_exp = ((2*n1*n2)/(n1+n2))+1\r\n",
        "\tstan_dev = math.sqrt((2*n1*n2*(2*n1*n2-n1-n2))/(((n1+n2)**2)*(n1+n2-1))) \r\n",
        "\r\n",
        "\tz = (runs-runs_exp)/stan_dev \r\n",
        "\r\n",
        "\treturn z "
      ],
      "execution_count": 2,
      "outputs": []
    },
    {
      "cell_type": "code",
      "metadata": {
        "colab": {
          "base_uri": "https://localhost:8080/"
        },
        "id": "K2Q_i2yJO5NZ",
        "outputId": "fcf0cb00-9c88-4878-d6b0-dd93970e635b"
      },
      "source": [
        "l = [] \r\n",
        "for i in range(100): \r\n",
        "\tl.append(random.random()) \r\n",
        "\t\r\n",
        "median= statistics.median(l) \r\n",
        "\r\n",
        "Z = abs(runsTest(l, median)) \r\n",
        "\r\n",
        "print('Z-statistic= ', Z)"
      ],
      "execution_count": 3,
      "outputs": [
        {
          "output_type": "stream",
          "text": [
            "Z-statistic=  0.603053454834441\n"
          ],
          "name": "stdout"
        }
      ]
    }
  ]
}