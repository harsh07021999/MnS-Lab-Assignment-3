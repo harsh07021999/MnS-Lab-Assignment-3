{
  "nbformat": 4,
  "nbformat_minor": 0,
  "metadata": {
    "colab": {
      "name": "1) Random Number Generator.ipynb",
      "provenance": [],
      "collapsed_sections": [],
      "authorship_tag": "ABX9TyMxpC2TtybJfHru4LrgMv7L",
      "include_colab_link": true
    },
    "kernelspec": {
      "name": "python3",
      "display_name": "Python 3"
    }
  },
  "cells": [
    {
      "cell_type": "markdown",
      "metadata": {
        "id": "view-in-github",
        "colab_type": "text"
      },
      "source": [
        "<a href=\"https://colab.research.google.com/github/ner-aim/MnS-Lab-Assignment-3/blob/main/1)_Random_Number_Generator.ipynb\" target=\"_parent\"><img src=\"https://colab.research.google.com/assets/colab-badge.svg\" alt=\"Open In Colab\"/></a>"
      ]
    },
    {
      "cell_type": "code",
      "metadata": {
        "id": "_zHGDytiOCpd"
      },
      "source": [
        "def seed(initVal):\r\n",
        "    global rand\r\n",
        "    rand = initVal"
      ],
      "execution_count": null,
      "outputs": []
    },
    {
      "cell_type": "code",
      "metadata": {
        "id": "aoRNQs1kOTnX"
      },
      "source": [
        "def lcg():\r\n",
        "    a = 1020102221\r\n",
        "    c = 12123233422\r\n",
        "    m = 3**12\r\n",
        "    global rand\r\n",
        "    rand = (a*rand + c) % m\r\n",
        "    return rand"
      ],
      "execution_count": null,
      "outputs": []
    },
    {
      "cell_type": "code",
      "metadata": {
        "id": "XvKrfEA9OVoD"
      },
      "source": [
        "seed(1)"
      ],
      "execution_count": null,
      "outputs": []
    },
    {
      "cell_type": "code",
      "metadata": {
        "colab": {
          "base_uri": "https://localhost:8080/"
        },
        "id": "QzOiLNSgUrO-",
        "outputId": "f44e7711-5ab1-4725-8fc2-0d4351b264b2"
      },
      "source": [
        "print(\"Enter Range:\")\r\n",
        "n = int(input())  "
      ],
      "execution_count": null,
      "outputs": [
        {
          "output_type": "stream",
          "text": [
            "Enter Range:\n",
            "25\n"
          ],
          "name": "stdout"
        }
      ]
    },
    {
      "cell_type": "code",
      "metadata": {
        "colab": {
          "base_uri": "https://localhost:8080/"
        },
        "id": "rYEpOjYFOW6s",
        "outputId": "c3699a42-6224-444a-bf25-0085b5770f9b"
      },
      "source": [
        "for i in range(n):\r\n",
        "    print (lcg())"
      ],
      "execution_count": null,
      "outputs": [
        {
          "output_type": "stream",
          "text": [
            "268272\n",
            "327922\n",
            "382980\n",
            "143320\n",
            "222621\n",
            "100810\n",
            "377874\n",
            "283633\n",
            "225228\n",
            "362335\n",
            "168900\n",
            "113572\n",
            "23427\n",
            "185317\n",
            "237900\n",
            "429394\n",
            "505275\n",
            "457462\n",
            "246672\n",
            "515572\n",
            "14943\n",
            "450931\n",
            "506391\n",
            "226333\n",
            "383490\n"
          ],
          "name": "stdout"
        }
      ]
    }
  ]
}