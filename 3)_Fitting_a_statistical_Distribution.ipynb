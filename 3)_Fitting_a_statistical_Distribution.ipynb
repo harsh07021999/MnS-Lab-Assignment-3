{
  "nbformat": 4,
  "nbformat_minor": 0,
  "metadata": {
    "colab": {
      "name": "3) Fitting a statistical Distribution.ipynb",
      "provenance": [],
      "collapsed_sections": [],
      "authorship_tag": "ABX9TyMkzPOxZ2fz4AYo55sju90X",
      "include_colab_link": true
    },
    "kernelspec": {
      "name": "python3",
      "display_name": "Python 3"
    }
  },
  "cells": [
    {
      "cell_type": "markdown",
      "metadata": {
        "id": "view-in-github",
        "colab_type": "text"
      },
      "source": [
        "<a href=\"https://colab.research.google.com/github/ner-aim/MnS-Lab-Assignment-3/blob/main/3)_Fitting_a_statistical_Distribution.ipynb\" target=\"_parent\"><img src=\"https://colab.research.google.com/assets/colab-badge.svg\" alt=\"Open In Colab\"/></a>"
      ]
    },
    {
      "cell_type": "code",
      "metadata": {
        "id": "mTTfFemQPNMr"
      },
      "source": [
        "import numpy as np\r\n",
        "import scipy\r\n",
        "from scipy import stats\r\n",
        "import matplotlib.pyplot as plt\r\n",
        "data = np.random.normal(0,1,150)"
      ],
      "execution_count": 1,
      "outputs": []
    },
    {
      "cell_type": "code",
      "metadata": {
        "id": "3aTZBetiPfdw"
      },
      "source": [
        "mean, var  = scipy.stats.distributions.norm.fit(data)"
      ],
      "execution_count": 2,
      "outputs": []
    },
    {
      "cell_type": "code",
      "metadata": {
        "id": "lYtJW2pmPh4Y"
      },
      "source": [
        "x = np.linspace(-2,2,50)"
      ],
      "execution_count": 3,
      "outputs": []
    },
    {
      "cell_type": "code",
      "metadata": {
        "id": "nWvy4-juPja2"
      },
      "source": [
        "fitted_data = scipy.stats.distributions.norm.pdf(x, mean, var)"
      ],
      "execution_count": 4,
      "outputs": []
    },
    {
      "cell_type": "code",
      "metadata": {
        "colab": {
          "base_uri": "https://localhost:8080/",
          "height": 366
        },
        "id": "HMyTCGPkPmYM",
        "outputId": "72943eea-9c89-42c6-a72e-04cb0d450113"
      },
      "source": [
        "plt.hist(data, density=True)"
      ],
      "execution_count": 5,
      "outputs": [
        {
          "output_type": "execute_result",
          "data": {
            "text/plain": [
              "(array([0.02372403, 0.03558605, 0.22537833, 0.35586052, 0.32027447,\n",
              "        0.33213648, 0.22537833, 0.17793026, 0.04744807, 0.03558605]),\n",
              " array([-2.8656554 , -2.30363745, -1.7416195 , -1.17960155, -0.61758359,\n",
              "        -0.05556564,  0.50645231,  1.06847026,  1.63048822,  2.19250617,\n",
              "         2.75452412]),\n",
              " <a list of 10 Patch objects>)"
            ]
          },
          "metadata": {
            "tags": []
          },
          "execution_count": 5
        },
        {
          "output_type": "display_data",
          "data": {
            "image/png": "[encoded data removed]",
            "text/plain": [
              "<Figure size 432x288 with 1 Axes>"
            ]
          },
          "metadata": {
            "tags": [],
            "needs_background": "light"
          }
        }
      ]
    },
    {
      "cell_type": "code",
      "metadata": {
        "colab": {
          "base_uri": "https://localhost:8080/",
          "height": 282
        },
        "id": "0NcYBhixPn7b",
        "outputId": "364036dd-28d6-419e-cc4a-a210bcb9f02e"
      },
      "source": [
        "plt.plot(x,fitted_data,'r-')"
      ],
      "execution_count": 6,
      "outputs": [
        {
          "output_type": "execute_result",
          "data": {
            "text/plain": [
              "[<matplotlib.lines.Line2D at 0x7f3b3717fb00>]"
            ]
          },
          "metadata": {
            "tags": []
          },
          "execution_count": 6
        },
        {
          "output_type": "display_data",
          "data": {
            "image/png": "[encoded data removed]",
            "text/plain": [
              "<Figure size 432x288 with 1 Axes>"
            ]
          },
          "metadata": {
            "tags": [],
            "needs_background": "light"
          }
        }
      ]
    }
  ]
}