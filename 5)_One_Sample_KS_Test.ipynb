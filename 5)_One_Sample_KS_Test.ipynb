{
  "nbformat": 4,
  "nbformat_minor": 0,
  "metadata": {
    "colab": {
      "name": "5) One Sample KS Test.ipynb",
      "provenance": [],
      "authorship_tag": "ABX9TyPOpnC6/dG08X/cauW2VW0l",
      "include_colab_link": true
    },
    "kernelspec": {
      "name": "python3",
      "display_name": "Python 3"
    }
  },
  "cells": [
    {
      "cell_type": "markdown",
      "metadata": {
        "id": "view-in-github",
        "colab_type": "text"
      },
      "source": [
        "<a href=\"https://colab.research.google.com/github/ner-aim/MnS-Lab-Assignment-3/blob/main/5)_One_Sample_KS_Test.ipynb\" target=\"_parent\"><img src=\"https://colab.research.google.com/assets/colab-badge.svg\" alt=\"Open In Colab\"/></a>"
      ]
    },
    {
      "cell_type": "code",
      "metadata": {
        "id": "OwhPkgI-SBSF"
      },
      "source": [
        "from scipy.stats import kstest \r\n",
        "import random "
      ],
      "execution_count": 6,
      "outputs": []
    },
    {
      "cell_type": "code",
      "metadata": {
        "colab": {
          "base_uri": "https://localhost:8080/"
        },
        "id": "HaoktPaYSJfp",
        "outputId": "a9eb1ac2-44f5-4937-f2c8-92aacdf35af9"
      },
      "source": [
        "N = int(input(\"Enter number of random numbers: \"))"
      ],
      "execution_count": 7,
      "outputs": [
        {
          "output_type": "stream",
          "text": [
            "Enter number of random numbers: 25\n"
          ],
          "name": "stdout"
        }
      ]
    },
    {
      "cell_type": "code",
      "metadata": {
        "id": "TP_NcsOxSOOz"
      },
      "source": [
        "actual =[] "
      ],
      "execution_count": 8,
      "outputs": []
    },
    {
      "cell_type": "code",
      "metadata": {
        "id": "ubb2K-wGSQYS"
      },
      "source": [
        "for i in range(N): \r\n",
        "    actual.append(random.random()) "
      ],
      "execution_count": 9,
      "outputs": []
    },
    {
      "cell_type": "code",
      "metadata": {
        "colab": {
          "base_uri": "https://localhost:8080/"
        },
        "id": "UoogSRPHSSxK",
        "outputId": "83552bae-9446-42ab-8e99-71a9e10668ca"
      },
      "source": [
        "print(actual) \r\n",
        "x = kstest(actual, \"uniform\")    \r\n",
        "print(x)"
      ],
      "execution_count": 10,
      "outputs": [
        {
          "output_type": "stream",
          "text": [
            "[0.09013722429864857, 0.8369379589093259, 0.33405276115969307, 0.6215798465218787, 0.3481051953306137, 0.667811047532785, 0.3821976243164882, 0.3729930137169344, 0.9705749887844427, 0.399971337192373, 0.6717121168950664, 0.09337049838003897, 0.6739106303865349, 0.9921887226914546, 0.12648125623590134, 0.3049137262611612, 0.038193479924995555, 0.38603016302280335, 0.8476987342904461, 0.2936297779643464, 0.4673117817681183, 0.30760940815278615, 0.5471812379671362, 0.6282350948277114, 0.2240968480474289]\n",
            "KstestResult(statistic=0.1660893696134651, pvalue=0.45229028582858843)\n"
          ],
          "name": "stdout"
        }
      ]
    }
  ]
}