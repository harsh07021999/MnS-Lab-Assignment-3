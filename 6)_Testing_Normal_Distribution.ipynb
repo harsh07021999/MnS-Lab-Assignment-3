{
  "nbformat": 4,
  "nbformat_minor": 0,
  "metadata": {
    "colab": {
      "name": "6) Testing Normal Distribution.ipynb",
      "provenance": [],
      "authorship_tag": "ABX9TyNH3sy6IMVvdHpWbzU0eo1A",
      "include_colab_link": true
    },
    "kernelspec": {
      "name": "python3",
      "display_name": "Python 3"
    }
  },
  "cells": [
    {
      "cell_type": "markdown",
      "metadata": {
        "id": "view-in-github",
        "colab_type": "text"
      },
      "source": [
        "<a href=\"https://colab.research.google.com/github/ner-aim/MnS-Lab-Assignment-3/blob/main/6)_Testing_Normal_Distribution.ipynb\" target=\"_parent\"><img src=\"https://colab.research.google.com/assets/colab-badge.svg\" alt=\"Open In Colab\"/></a>"
      ]
    },
    {
      "cell_type": "code",
      "metadata": {
        "id": "ToIN7JWXSe_F"
      },
      "source": [
        "from scipy import stats\r\n",
        "import numpy as np"
      ],
      "execution_count": 70,
      "outputs": []
    },
    {
      "cell_type": "code",
      "metadata": {
        "id": "vz3cVC17Sf-5"
      },
      "source": [
        "pts = 10000"
      ],
      "execution_count": 71,
      "outputs": []
    },
    {
      "cell_type": "code",
      "metadata": {
        "id": "7eSOZdfqSp-s"
      },
      "source": [
        "np.random.seed(28041990)"
      ],
      "execution_count": 72,
      "outputs": []
    },
    {
      "cell_type": "code",
      "metadata": {
        "id": "2R4shDVQSxHf"
      },
      "source": [
        "a = np.random.normal(1, 3, size=pts)\r\n",
        "b = np.random.normal(2, 5, size=pts)\r\n",
        "x = np.concatenate((a, b))"
      ],
      "execution_count": 73,
      "outputs": []
    },
    {
      "cell_type": "code",
      "metadata": {
        "id": "rLlBUdudSykU"
      },
      "source": [
        "k2, p = stats.normaltest(x)\r\n",
        "alpha = 1e-3"
      ],
      "execution_count": 74,
      "outputs": []
    },
    {
      "cell_type": "code",
      "metadata": {
        "colab": {
          "base_uri": "https://localhost:8080/"
        },
        "id": "1bPCyTjtTrVz",
        "outputId": "e5ed7ed3-de24-4776-ba26-6a153049508d"
      },
      "source": [
        "print(\"p = {:g}\".format(p))"
      ],
      "execution_count": 75,
      "outputs": [
        {
          "output_type": "stream",
          "text": [
            "p = 1.39902e-79\n"
          ],
          "name": "stdout"
        }
      ]
    },
    {
      "cell_type": "code",
      "metadata": {
        "colab": {
          "base_uri": "https://localhost:8080/"
        },
        "id": "CGggf9iQTtUs",
        "outputId": "f6ac4530-db95-4554-a39e-8c0d9bbbc786"
      },
      "source": [
        "if p < alpha:  \r\n",
        "    print(\"The null hypothesis can be rejected\")\r\n",
        "else:\r\n",
        "    print(\"The null hypothesis cannot be rejected\")\r\n"
      ],
      "execution_count": 76,
      "outputs": [
        {
          "output_type": "stream",
          "text": [
            "The null hypothesis can be rejected\n"
          ],
          "name": "stdout"
        }
      ]
    }
  ]
}